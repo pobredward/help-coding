{
 "cells": [
  {
   "cell_type": "markdown",
   "metadata": {},
   "source": [
    "# 과제도와주기 프로젝트 2번째"
   ]
  },
  {
   "cell_type": "markdown",
   "metadata": {},
   "source": [
    "- 요청 : 에브리타임<br>\n",
    "- 일시 : 2021-04-03\n",
    "- 과목 : 공학도를위한창의적프로그래밍<br>\n",
    "- 언어 : python\n",
    "- 조건 : .format 쓰기"
   ]
  },
  {
   "cell_type": "markdown",
   "metadata": {},
   "source": [
    "<img src='src/2021-04-03-1.png' style='float:left; width:400px;'>"
   ]
  },
  {
   "cell_type": "code",
   "execution_count": 1,
   "metadata": {},
   "outputs": [
    {
     "name": "stdout",
     "output_type": "stream",
     "text": [
      "첫 번째 정수를 입력하세요: 532\n",
      "두 번째 정수를 입력하세요: 626\n",
      "\n",
      "큰 수: 626\n",
      "작은 수: 532\n"
     ]
    }
   ],
   "source": [
    "first = int(input('첫 번째 정수를 입력하세요: '))\n",
    "second = int(input('두 번째 정수를 입력하세요: '))\n",
    "\n",
    "if first>second:\n",
    "    print('\\n큰 수: '.format(first))\n",
    "    print('작은 수: {}'.format(second))\n",
    "elif first<second:\n",
    "    print('\\n큰 수: {}'.format(second))\n",
    "    print('작은 수: {}'.format(first))\n",
    "else:\n",
    "    print('같은 수')"
   ]
  },
  {
   "cell_type": "markdown",
   "metadata": {},
   "source": [
    "<img src='src/2021-04-03-2.png' style='float:left; width:400px;'>"
   ]
  },
  {
   "cell_type": "code",
   "execution_count": 2,
   "metadata": {},
   "outputs": [
    {
     "name": "stdout",
     "output_type": "stream",
     "text": [
      "number> -1\n",
      "negative\n"
     ]
    }
   ],
   "source": [
    "number = float(input('number> '))\n",
    "if number>0:\n",
    "    print('positive')\n",
    "elif number<0:\n",
    "    print('negative')\n",
    "elif number==0:\n",
    "    print('zero')"
   ]
  },
  {
   "cell_type": "markdown",
   "metadata": {},
   "source": [
    "<img src='src/2021-04-03-3.png' style='float:left; width:400px;'>"
   ]
  },
  {
   "cell_type": "code",
   "execution_count": 3,
   "metadata": {},
   "outputs": [
    {
     "name": "stdout",
     "output_type": "stream",
     "text": [
      "주민번호를 입력하세요(형태 xxxxxx-xxxxxx): 004241-5351351\n",
      "당신은 00년 42월 41일에 태어났으며, 남자이군요.\n"
     ]
    }
   ],
   "source": [
    "ju = str(input('주민번호를 입력하세요(형태 xxxxxx-xxxxxx): '))\n",
    "if int(ju[7])%2==1:\n",
    "    sex = '남자'\n",
    "elif int(ju[7])%2==0:\n",
    "    sex = '여자'\n",
    "\n",
    "print('당신은 {}년 {}월 {}일에 태어났으며, {}이군요.'.format(ju[:2], ju[2:4], ju[4:6], sex))"
   ]
  },
  {
   "cell_type": "markdown",
   "metadata": {},
   "source": [
    "<img src='src/2021-04-03-4.png' style='float:left; width:400px;'>"
   ]
  },
  {
   "cell_type": "code",
   "execution_count": 4,
   "metadata": {},
   "outputs": [
    {
     "name": "stdout",
     "output_type": "stream",
     "text": [
      "티끌 모아 태산!!!\n",
      "\n",
      "땡그랑, 동전 100원을 모았습니다.\n",
      "땡그랑, 땡그랑, 동전 200원을 모았습니다.\n",
      "땡그랑, 땡그랑, 땡그랑, 동전 300원을 모았습니다.\n",
      "땡그랑, 땡그랑, 땡그랑, 땡그랑, 동전 400원을 모았습니다.\n",
      "땡그랑, 땡그랑, 땡그랑, 땡그랑, 땡그랑, 동전 500원을 모았습니다.\n",
      "땡그랑, 땡그랑, 땡그랑, 땡그랑, 땡그랑, 땡그랑, 동전 600원을 모았습니다.\n",
      "땡그랑, 땡그랑, 땡그랑, 땡그랑, 땡그랑, 땡그랑, 땡그랑, 동전 700원을 모았습니다.\n",
      "땡그랑, 땡그랑, 땡그랑, 땡그랑, 땡그랑, 땡그랑, 땡그랑, 땡그랑, 동전 800원을 모았습니다.\n",
      "땡그랑, 땡그랑, 땡그랑, 땡그랑, 땡그랑, 땡그랑, 땡그랑, 땡그랑, 땡그랑, 동전 900원을 모았습니다.\n",
      "땡그랑, 땡그랑, 땡그랑, 땡그랑, 땡그랑, 땡그랑, 땡그랑, 땡그랑, 땡그랑, 땡그랑, 동전 1000원을 모았습니다.\n",
      "\n",
      "산다, 산다, 집 산다!!!\n"
     ]
    }
   ],
   "source": [
    "print('티끌 모아 태산!!!\\n')\n",
    "money = 0\n",
    "for i in range(10):\n",
    "    money += 100\n",
    "    print('{}동전 {}원을 모았습니다.'.format('땡그랑, '*(i+1), money))\n",
    "\n",
    "print('\\n산다, 산다, 집 산다!!!')"
   ]
  },
  {
   "cell_type": "markdown",
   "metadata": {},
   "source": [
    "<img src='src/2021-04-03-5.png' style='float:left; width:400px;'>"
   ]
  },
  {
   "cell_type": "code",
   "execution_count": 5,
   "metadata": {},
   "outputs": [
    {
     "name": "stdout",
     "output_type": "stream",
     "text": [
      "구구단 2단\n",
      "2*1=2\n",
      "2*2=4\n",
      "2*3=6\n",
      "2*4=8\n",
      "2*5=10\n",
      "2*6=12\n",
      "2*7=14\n",
      "2*8=16\n",
      "2*9=18\n",
      "구구단 3단\n",
      "3*1=3\n",
      "3*2=6\n",
      "3*3=9\n",
      "3*4=12\n",
      "3*5=15\n",
      "3*6=18\n",
      "3*7=21\n",
      "3*8=24\n",
      "3*9=27\n",
      "구구단 4단\n",
      "4*1=4\n",
      "4*2=8\n",
      "4*3=12\n",
      "4*4=16\n",
      "4*5=20\n",
      "4*6=24\n",
      "4*7=28\n",
      "4*8=32\n",
      "4*9=36\n",
      "구구단 5단\n",
      "5*1=5\n",
      "5*2=10\n",
      "5*3=15\n",
      "5*4=20\n",
      "5*5=25\n",
      "5*6=30\n",
      "5*7=35\n",
      "5*8=40\n",
      "5*9=45\n",
      "구구단 6단\n",
      "6*1=6\n",
      "6*2=12\n",
      "6*3=18\n",
      "6*4=24\n",
      "6*5=30\n",
      "6*6=36\n",
      "6*7=42\n",
      "6*8=48\n",
      "6*9=54\n",
      "구구단 7단\n",
      "7*1=7\n",
      "7*2=14\n",
      "7*3=21\n",
      "7*4=28\n",
      "7*5=35\n",
      "7*6=42\n",
      "7*7=49\n",
      "7*8=56\n",
      "7*9=63\n",
      "구구단 8단\n",
      "8*1=8\n",
      "8*2=16\n",
      "8*3=24\n",
      "8*4=32\n",
      "8*5=40\n",
      "8*6=48\n",
      "8*7=56\n",
      "8*8=64\n",
      "8*9=72\n",
      "구구단 9단\n",
      "9*1=9\n",
      "9*2=18\n",
      "9*3=27\n",
      "9*4=36\n",
      "9*5=45\n",
      "9*6=54\n",
      "9*7=63\n",
      "9*8=72\n",
      "9*9=81\n"
     ]
    }
   ],
   "source": [
    "first=2\n",
    "while first < 10:\n",
    "    print(\"구구단 \" + str(first) + \"단\")\n",
    "    second=1\n",
    "    while second < 10:\n",
    "        print(str(first) + \"*\" + str(second) + \"=\" + str(second*first))\n",
    "        second+=1\n",
    "    first+=1"
   ]
  }
 ],
 "metadata": {
  "kernelspec": {
   "display_name": "Python 3",
   "language": "python",
   "name": "python3"
  },
  "language_info": {
   "codemirror_mode": {
    "name": "ipython",
    "version": 3
   },
   "file_extension": ".py",
   "mimetype": "text/x-python",
   "name": "python",
   "nbconvert_exporter": "python",
   "pygments_lexer": "ipython3",
   "version": "3.8.5"
  }
 },
 "nbformat": 4,
 "nbformat_minor": 4
}
