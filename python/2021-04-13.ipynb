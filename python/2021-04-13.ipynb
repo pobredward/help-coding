{
 "cells": [
  {
   "cell_type": "markdown",
   "metadata": {},
   "source": [
    "# 과제도와주기 프로젝트 7번째"
   ]
  },
  {
   "cell_type": "markdown",
   "metadata": {},
   "source": [
    "- 요청 : 에브리타임<br>\n",
    "- 일시 : 2021-04-13\n",
    "- 과목 : 공학도를위한창의적컴퓨팅<br>\n",
    "- 언어 : python"
   ]
  },
  {
   "cell_type": "markdown",
   "metadata": {},
   "source": [
    "<img src='src/2021-04-13-1.jpeg' style='float:left; width:400px;'>"
   ]
  },
  {
   "cell_type": "code",
   "execution_count": 1,
   "metadata": {},
   "outputs": [
    {
     "name": "stdout",
     "output_type": "stream",
     "text": [
      "사칙 연산 계산기입니다\n",
      "첫 번째 숫자를 입력하세요\n",
      "3\n",
      "두 번째 숫자를 입력하세요\n",
      "5\n",
      "연산의 종류를 입력하세요\n",
      "/\n",
      "3.0 / 5.0 = 0.6\n"
     ]
    }
   ],
   "source": [
    "print('사칙 연산 계산기입니다')\n",
    "num1 = float(input('첫 번째 숫자를 입력하세요\\n'))\n",
    "num2 = float(input('두 번째 숫자를 입력하세요\\n'))\n",
    "calc = str(input('연산의 종류를 입력하세요\\n'))\n",
    "if calc == '+':\n",
    "    print(num1, calc, num2, '=', num1+num2)\n",
    "elif calc == '-':\n",
    "    print(num1, calc, num2, '=', num1-num2)\n",
    "elif calc == '*':\n",
    "    print(num1, calc, num2, '=', num1*num2)\n",
    "elif (calc == '/' and num2!=0):\n",
    "    print(num1, calc, num2, '=', round(num1/num2, 2))"
   ]
  }
 ],
 "metadata": {
  "kernelspec": {
   "display_name": "Python 3",
   "language": "python",
   "name": "python3"
  },
  "language_info": {
   "codemirror_mode": {
    "name": "ipython",
    "version": 3
   },
   "file_extension": ".py",
   "mimetype": "text/x-python",
   "name": "python",
   "nbconvert_exporter": "python",
   "pygments_lexer": "ipython3",
   "version": "3.8.5"
  }
 },
 "nbformat": 4,
 "nbformat_minor": 4
}
