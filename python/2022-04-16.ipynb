{
 "cells": [
  {
   "cell_type": "code",
   "execution_count": 1,
   "id": "a76055d0",
   "metadata": {},
   "outputs": [],
   "source": [
    "import numpy as np\n",
    "from sklearn.linear_model import LinearRegression\n",
    "import matplotlib.pyplot as plt"
   ]
  },
  {
   "cell_type": "code",
   "execution_count": 2,
   "id": "01c60d01",
   "metadata": {},
   "outputs": [],
   "source": [
    "X = [8.801414 * 1e-13, \n",
    "     1.60191 * 1e-12, \n",
    "     2.403324 * 1e-12, \n",
    "     3.0204738 * 1e-12,\n",
    "     4.005234 * 1e-12\n",
    "    ]"
   ]
  },
  {
   "cell_type": "code",
   "execution_count": 3,
   "id": "9dd6d535",
   "metadata": {},
   "outputs": [],
   "source": [
    "y = [0.0438,\n",
    "     0.1023,\n",
    "     0.1583,\n",
    "     0.2070,\n",
    "     0.2338\n",
    "    ]"
   ]
  },
  {
   "cell_type": "code",
   "execution_count": 4,
   "id": "846b58c6",
   "metadata": {},
   "outputs": [],
   "source": [
    "X = np.array(X).reshape(-1, 1)"
   ]
  },
  {
   "cell_type": "code",
   "execution_count": 5,
   "id": "cfd4cdcf",
   "metadata": {},
   "outputs": [],
   "source": [
    "model = LinearRegression()\n",
    "model.fit(X, y)\n",
    "y_p = model.predict(X)"
   ]
  },
  {
   "cell_type": "code",
   "execution_count": 6,
   "id": "eb26a86d",
   "metadata": {},
   "outputs": [
    {
     "data": {
      "text/plain": [
       "array([6.25188331e+10])"
      ]
     },
     "execution_count": 6,
     "metadata": {},
     "output_type": "execute_result"
    }
   ],
   "source": [
    "model.coef_ # 기울기 출력"
   ]
  },
  {
   "cell_type": "code",
   "execution_count": 7,
   "id": "0c390003",
   "metadata": {},
   "outputs": [
    {
     "data": {
      "text/plain": [
       "0.00010659550950450902"
      ]
     },
     "execution_count": 7,
     "metadata": {},
     "output_type": "execute_result"
    }
   ],
   "source": [
    "model.intercept_ # y절편 출력"
   ]
  },
  {
   "cell_type": "code",
   "execution_count": 8,
   "id": "c5f32cdd",
   "metadata": {},
   "outputs": [
    {
     "data": {
      "image/png": "[encoded data removed]",
      "text/plain": [
       "<Figure size 432x288 with 1 Axes>"
      ]
     },
     "metadata": {
      "needs_background": "light"
     },
     "output_type": "display_data"
    }
   ],
   "source": [
    "plt.scatter(X, y, marker = '+')\n",
    "plt.scatter(X, y_p, marker = 'o')\n",
    "plt.plot(X, X*model.coef_+model.intercept_)\n",
    "plt.xlabel(\"JΘ\")\n",
    "plt.ylabel(\"TL\")\n",
    "plt.show()"
   ]
  }
 ],
 "metadata": {
  "kernelspec": {
   "display_name": "Python 3 (ipykernel)",
   "language": "python",
   "name": "python3"
  },
  "language_info": {
   "codemirror_mode": {
    "name": "ipython",
    "version": 3
   },
   "file_extension": ".py",
   "mimetype": "text/x-python",
   "name": "python",
   "nbconvert_exporter": "python",
   "pygments_lexer": "ipython3",
   "version": "3.9.7"
  }
 },
 "nbformat": 4,
 "nbformat_minor": 5
}
