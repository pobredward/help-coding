{
 "cells": [
  {
   "cell_type": "markdown",
   "id": "d972f81d",
   "metadata": {},
   "source": [
    "# 1번 과제"
   ]
  },
  {
   "cell_type": "code",
   "execution_count": 1,
   "id": "9476de36",
   "metadata": {},
   "outputs": [],
   "source": [
    "import numpy as np\n",
    "from sklearn.linear_model import LinearRegression\n",
    "import matplotlib.pyplot as plt"
   ]
  },
  {
   "cell_type": "code",
   "execution_count": 2,
   "id": "a8f28bdb",
   "metadata": {},
   "outputs": [],
   "source": [
    "X = [8.801414 * 1e-13, \n",
    "     1.60191 * 1e-12, \n",
    "     2.403324 * 1e-12, \n",
    "     3.0204738 * 1e-12,\n",
    "     4.005234 * 1e-12\n",
    "    ]"
   ]
  },
  {
   "cell_type": "code",
   "execution_count": 3,
   "id": "649c8d4a",
   "metadata": {},
   "outputs": [],
   "source": [
    "y = [0.0438,\n",
    "     0.1023,\n",
    "     0.1583,\n",
    "     0.2070,\n",
    "     0.2338\n",
    "    ]"
   ]
  },
  {
   "cell_type": "code",
   "execution_count": 4,
   "id": "8c8a1519",
   "metadata": {},
   "outputs": [],
   "source": [
    "X = np.array(X).reshape(-1, 1)"
   ]
  },
  {
   "cell_type": "code",
   "execution_count": 5,
   "id": "f5b6b587",
   "metadata": {},
   "outputs": [],
   "source": [
    "model = LinearRegression()\n",
    "model.fit(X, y)\n",
    "y_p = model.predict(X)"
   ]
  },
  {
   "cell_type": "code",
   "execution_count": 6,
   "id": "d5dbd0a8",
   "metadata": {},
   "outputs": [
    {
     "data": {
      "text/plain": [
       "array([6.25188331e+10])"
      ]
     },
     "execution_count": 6,
     "metadata": {},
     "output_type": "execute_result"
    }
   ],
   "source": [
    "model.coef_ # 기울기 출력"
   ]
  },
  {
   "cell_type": "code",
   "execution_count": 7,
   "id": "7981b699",
   "metadata": {},
   "outputs": [
    {
     "data": {
      "text/plain": [
       "0.00010659550950450902"
      ]
     },
     "execution_count": 7,
     "metadata": {},
     "output_type": "execute_result"
    }
   ],
   "source": [
    "model.intercept_ # y절편 출력"
   ]
  },
  {
   "cell_type": "code",
   "execution_count": 8,
   "id": "95f8cd3a",
   "metadata": {},
   "outputs": [
    {
     "data": {
      "image/png": "[encoded data removed]",
      "text/plain": [
       "<Figure size 432x288 with 1 Axes>"
      ]
     },
     "metadata": {
      "needs_background": "light"
     },
     "output_type": "display_data"
    }
   ],
   "source": [
    "plt.scatter(X, y, marker = '+')\n",
    "plt.scatter(X, y_p, marker = 'o')\n",
    "plt.plot(X, X*model.coef_+model.intercept_)\n",
    "plt.xlabel(\"JΘ\")\n",
    "plt.ylabel(\"TL\")\n",
    "plt.show()"
   ]
  },
  {
   "cell_type": "markdown",
   "id": "adb0889f",
   "metadata": {},
   "source": [
    "# 2번 과제"
   ]
  },
  {
   "cell_type": "code",
   "execution_count": 9,
   "id": "7abfc613",
   "metadata": {},
   "outputs": [],
   "source": [
    "X = [8.32842 * 1e-13, \n",
    "     1.66473 * 1e-12, \n",
    "     2.497572 * 1e-12, \n",
    "     3.330414 * 1e-12,\n",
    "     4.162302 * 1e-12\n",
    "    ]"
   ]
  },
  {
   "cell_type": "code",
   "execution_count": 10,
   "id": "d4f2ec07",
   "metadata": {},
   "outputs": [],
   "source": [
    "y = [0.0255,\n",
    "     0.0486,\n",
    "     0.0729,\n",
    "     0.0972,\n",
    "     0.1239\n",
    "    ]"
   ]
  },
  {
   "cell_type": "code",
   "execution_count": 11,
   "id": "aa2424ce",
   "metadata": {},
   "outputs": [],
   "source": [
    "X = np.array(X).reshape(-1, 1)"
   ]
  },
  {
   "cell_type": "code",
   "execution_count": 12,
   "id": "d5a514f7",
   "metadata": {},
   "outputs": [],
   "source": [
    "model = LinearRegression()\n",
    "model.fit(X, y)\n",
    "y_p = model.predict(X)"
   ]
  },
  {
   "cell_type": "code",
   "execution_count": 13,
   "id": "a9b6b8a2",
   "metadata": {},
   "outputs": [
    {
     "data": {
      "text/plain": [
       "array([2.94788451e+10])"
      ]
     },
     "execution_count": 13,
     "metadata": {},
     "output_type": "execute_result"
    }
   ],
   "source": [
    "model.coef_ # 기울기 출력"
   ]
  },
  {
   "cell_type": "code",
   "execution_count": 14,
   "id": "ba9423d9",
   "metadata": {},
   "outputs": [
    {
     "data": {
      "text/plain": [
       "-5.538184165904125e-06"
      ]
     },
     "execution_count": 14,
     "metadata": {},
     "output_type": "execute_result"
    }
   ],
   "source": [
    "model.intercept_ # y절편 출력"
   ]
  },
  {
   "cell_type": "code",
   "execution_count": 15,
   "id": "0ed4601a",
   "metadata": {},
   "outputs": [
    {
     "data": {
      "image/png": "[encoded data removed]",
      "text/plain": [
       "<Figure size 432x288 with 1 Axes>"
      ]
     },
     "metadata": {
      "needs_background": "light"
     },
     "output_type": "display_data"
    }
   ],
   "source": [
    "plt.scatter(X, y, marker = '+')\n",
    "plt.scatter(X, y_p, marker = 'o')\n",
    "plt.plot(X, X*model.coef_+model.intercept_)\n",
    "plt.xlabel(\"JΘ\")\n",
    "plt.ylabel(\"TL\")\n",
    "plt.show()"
   ]
  }
 ],
 "metadata": {
  "kernelspec": {
   "display_name": "Python 3 (ipykernel)",
   "language": "python",
   "name": "python3"
  },
  "language_info": {
   "codemirror_mode": {
    "name": "ipython",
    "version": 3
   },
   "file_extension": ".py",
   "mimetype": "text/x-python",
   "name": "python",
   "nbconvert_exporter": "python",
   "pygments_lexer": "ipython3",
   "version": "3.9.7"
  }
 },
 "nbformat": 4,
 "nbformat_minor": 5
}
