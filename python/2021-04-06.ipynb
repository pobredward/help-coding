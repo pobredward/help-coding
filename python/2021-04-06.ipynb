{
 "cells": [
  {
   "cell_type": "markdown",
   "metadata": {},
   "source": [
    "# 과제도와주기 프로젝트 3번째"
   ]
  },
  {
   "cell_type": "markdown",
   "metadata": {},
   "source": [
    "- 요청 : 같은 과 동기<br>\n",
    "- 일시 : 2021-04-06\n",
    "- 과목 : 컴퓨터공학<br>\n",
    "- 언어 : python"
   ]
  },
  {
   "cell_type": "markdown",
   "metadata": {},
   "source": [
    "<img src='src/2021-04-06-1.png' style='float:left; width:600px;'>"
   ]
  },
  {
   "cell_type": "markdown",
   "metadata": {},
   "source": [
    "<img src='src/2021-04-06-2.png' style='float:left; width:600px;'>"
   ]
  },
  {
   "cell_type": "code",
   "execution_count": 1,
   "metadata": {},
   "outputs": [
    {
     "name": "stdout",
     "output_type": "stream",
     "text": [
      "3.9209302325581397\n",
      "3.9209302325581397\n"
     ]
    }
   ],
   "source": [
    "import numpy as np\n",
    "import pandas as pd\n",
    "\n",
    "def get_ratings_numpy(df):\n",
    "    # ============================================\n",
    "    # TODO : datafame을 인자로 받지만, numpy를 이용해서 각 영화별 평점(평균)을 구한다.\n",
    "    #      [input] : dataframe of pandas \n",
    "    #       \n",
    "    #      [output] : 영화 id별 평점 평균이 담겨있는 data\n",
    "    arr = np.array(df)      # Hint\n",
    "    # ================ EDIT HERE =================\n",
    "    ratings = {}\n",
    "    \n",
    "    for i in np.unique(arr[:,1]):\n",
    "        ratings[i] = arr[arr[:, 1]==i][:, 2].mean()\n",
    "\n",
    "    # ============================================\n",
    "    return ratings\n",
    "\n",
    "def get_ratings_pandas(df):\n",
    "    # ============================================\n",
    "    # TODO : pandas를 이용해서 get_ratings_numpy와 같은 기능을 하는 함수를 만든다.\n",
    "    #        즉, 영화별 평점 평균을 반환한다.\n",
    "    #      [input] : dataframe of pandas \n",
    "    #       \n",
    "    #      [output] : 영화 id별 평점 평균이 담겨있는 data\n",
    "    # ================ EDIT HERE =================\n",
    "\n",
    "    ratings = df.groupby(['movieId'])['rating'].mean()\n",
    "    \n",
    "    # ============================================\n",
    "    return ratings\n",
    "\n",
    "\n",
    "if __name__ == '__main__':\n",
    "    ratings_path = 'data/ratings.csv'\n",
    "    movies_path = 'data/movies.csv'\n",
    "    ratings = pd.read_csv(ratings_path)\n",
    "    movies = pd.read_csv(movies_path)\n",
    "     \n",
    "    # =============== 영화 평점 평균 ================\n",
    "    ratings_n = get_ratings_numpy(ratings)\n",
    "    print(ratings_n[1])\n",
    "    ratings_p = get_ratings_pandas(ratings)\n",
    "    print(ratings_p.iloc[0])\n",
    "    # ============================================"
   ]
  },
  {
   "cell_type": "code",
   "execution_count": 2,
   "metadata": {},
   "outputs": [
    {
     "data": {
      "text/plain": [
       "{1.0: 3.9209302325581397,\n",
       " 2.0: 3.4318181818181817,\n",
       " 3.0: 3.2596153846153846,\n",
       " 4.0: 2.357142857142857,\n",
       " 5.0: 3.0714285714285716}"
      ]
     },
     "execution_count": 2,
     "metadata": {},
     "output_type": "execute_result"
    }
   ],
   "source": [
    "result1 = dict(list(ratings_n.items())[:5])\n",
    "result1"
   ]
  },
  {
   "cell_type": "code",
   "execution_count": 3,
   "metadata": {
    "scrolled": true
   },
   "outputs": [
    {
     "data": {
      "text/plain": [
       "movieId\n",
       "1    3.920930\n",
       "2    3.431818\n",
       "3    3.259615\n",
       "4    2.357143\n",
       "5    3.071429\n",
       "Name: rating, dtype: float64"
      ]
     },
     "execution_count": 3,
     "metadata": {},
     "output_type": "execute_result"
    }
   ],
   "source": [
    "result2 = ratings_p[:5]\n",
    "result2"
   ]
  }
 ],
 "metadata": {
  "kernelspec": {
   "display_name": "Python 3",
   "language": "python",
   "name": "python3"
  },
  "language_info": {
   "codemirror_mode": {
    "name": "ipython",
    "version": 3
   },
   "file_extension": ".py",
   "mimetype": "text/x-python",
   "name": "python",
   "nbconvert_exporter": "python",
   "pygments_lexer": "ipython3",
   "version": "3.8.5"
  }
 },
 "nbformat": 4,
 "nbformat_minor": 4
}
