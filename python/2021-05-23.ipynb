{
 "cells": [
  {
   "cell_type": "markdown",
   "id": "ba70fba1",
   "metadata": {},
   "source": [
    "# 과제도와주기 프로젝트 13번째"
   ]
  },
  {
   "cell_type": "markdown",
   "id": "6e417636",
   "metadata": {},
   "source": [
    "- 요청 : 에브리타임<br>\n",
    "- 일시 : 2021-05-23\n",
    "- 과목 : 공학도를위한창의적컴퓨팅<br>\n",
    "- 언어 : python"
   ]
  },
  {
   "cell_type": "markdown",
   "id": "285a410d",
   "metadata": {},
   "source": [
    "<img src='src/2021-05-23-1.jpeg' style='float:left; width:600px;'>"
   ]
  },
  {
   "cell_type": "code",
   "execution_count": 20,
   "id": "12abd804",
   "metadata": {},
   "outputs": [],
   "source": [
    "def calc():\n",
    "    num_fir = int(input('첫 번째 숫자를 입력하세요:\\n'))\n",
    "    num_sec = int(input('두 번째 숫자를 입력하세요:\\n'))\n",
    "    \n",
    "    result = (num_fir+num_sec, num_fir-num_sec, num_fir*num_sec, num_fir/num_sec)   \n",
    "    \n",
    "    print('두 수의 덧셈은', result[0])\n",
    "    print('두 수의 뺄셈은', result[1])\n",
    "    print('두 수의 곱셈은', result[2])\n",
    "    print('두 수의 나눗셈은', result[3])\n",
    "    \n",
    "    return result"
   ]
  },
  {
   "cell_type": "code",
   "execution_count": 21,
   "id": "d226b897",
   "metadata": {},
   "outputs": [
    {
     "name": "stdout",
     "output_type": "stream",
     "text": [
      "첫 번째 숫자를 입력하세요:\n",
      "10\n",
      "두 번째 숫자를 입력하세요:\n",
      "20\n",
      "두 수의 덧셈은 30\n",
      "두 수의 뺄셈은 -10\n",
      "두 수의 곱셈은 200\n",
      "두 수의 나눗셈은 0.5\n"
     ]
    },
    {
     "data": {
      "text/plain": [
       "(30, -10, 200, 0.5)"
      ]
     },
     "execution_count": 21,
     "metadata": {},
     "output_type": "execute_result"
    }
   ],
   "source": [
    "calc()"
   ]
  },
  {
   "cell_type": "code",
   "execution_count": 39,
   "id": "732d7c49",
   "metadata": {},
   "outputs": [
    {
     "name": "stdout",
     "output_type": "stream",
     "text": [
      "튜플을 이용한 변수 할당\n",
      "a=10\n",
      "b=20\n",
      "c=30\n",
      "튜플을 이용한 변수 값의 교환\n",
      "a=20\n",
      "b=30\n",
      "c=10\n"
     ]
    }
   ],
   "source": [
    "print('튜플을 이용한 변수 할당')\n",
    "a, b, c = 10, 20, 30\n",
    "print('a=%d\\nb=%d\\nc=%d'%(a, b, c))\n",
    "print('튜플을 이용한 변수 값의 교환')\n",
    "a, b, c = b, c, a\n",
    "print('a=%d\\nb=%d\\nc=%d'%(a, b, c))"
   ]
  }
 ],
 "metadata": {
  "kernelspec": {
   "display_name": "Python 3",
   "language": "python",
   "name": "python3"
  },
  "language_info": {
   "codemirror_mode": {
    "name": "ipython",
    "version": 3
   },
   "file_extension": ".py",
   "mimetype": "text/x-python",
   "name": "python",
   "nbconvert_exporter": "python",
   "pygments_lexer": "ipython3",
   "version": "3.8.8"
  }
 },
 "nbformat": 4,
 "nbformat_minor": 5
}
