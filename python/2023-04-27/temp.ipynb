{
 "cells": [
  {
   "cell_type": "code",
   "execution_count": 14,
   "id": "02b5bcdc",
   "metadata": {},
   "outputs": [],
   "source": [
    "import gym\n",
    "import numpy as np\n",
    "\n",
    "# Frozen Lake v1 환경 생성\n",
    "env = gym.make('FrozenLake-v1')\n",
    "\n",
    "# Q-table 초기화\n",
    "n_states = env.observation_space.n\n",
    "n_actions = env.action_space.n\n",
    "Q = np.zeros((n_states, n_actions))\n",
    "rewardList = []\n",
    "\n",
    "# 하이퍼파라미터 설정\n",
    "learning_rate = 0.1\n",
    "discount_rate = 1\n",
    "n_episodes = 10000\n",
    "max_steps_per_episode = 100\n",
    "\n",
    "# epsilon-greedy 정책 설정\n",
    "epsilon = 1.0\n",
    "max_epsilon = 1.0\n",
    "min_epsilon = 0.01\n",
    "decay_rate = 0.001\n",
    "\n",
    "# 상태를 이산적인 값으로 변환하는 함수\n",
    "def state_to_id(state):\n",
    "    if isinstance(state, tuple):\n",
    "        return state[0]\n",
    "    else:\n",
    "        return state\n",
    "\n",
    "# Q-learning 알고리즘\n",
    "for episode in range(n_episodes):\n",
    "    state = env.reset()\n",
    "    done = False\n",
    "    step = 0\n",
    "    rewardAll = 0\n",
    "    \n",
    "#     print(\"=========================\")\n",
    "    \n",
    "    for step in range(max_steps_per_episode):\n",
    "        \n",
    "        state = state_to_id(state)\n",
    "        \n",
    "        # epsilon-greedy 정책에 따라 행동 선택\n",
    "        tradeoff = np.random.uniform(0, 1)\n",
    "        if tradeoff > epsilon:\n",
    "            action = np.argmax(Q[state, :])\n",
    "        else:\n",
    "            action = env.action_space.sample()\n",
    "        \n",
    "        # 다음 상태, 보상, 종료 여부, 디버깅 정보 얻기\n",
    "        next_state, reward, done, _, _ = env.step(action)\n",
    "        next_state = state_to_id(next_state)\n",
    "        \n",
    "        # Q-value 업데이트\n",
    "        Q[state, action] = Q[state, action] + learning_rate * (reward + discount_rate * np.max(Q[next_state, :]) - Q[state, action])\n",
    "        rewardAll += reward\n",
    "        \n",
    "        # 다음 상태로 이동\n",
    "        state = next_state\n",
    "        \n",
    "        # 종료 조건 검사\n",
    "        if done:\n",
    "            break\n",
    "    \n",
    "    # epsilon 값 감소\n",
    "    epsilon = min_epsilon + (max_epsilon - min_epsilon) * np.exp(-decay_rate * episode)\n",
    "    \n",
    "    rewardList.append(rewardAll)\n",
    "#     print(\"rewardList: \", rewardList)"
   ]
  },
  {
   "cell_type": "code",
   "execution_count": 15,
   "id": "52d9452b",
   "metadata": {},
   "outputs": [
    {
     "name": "stdout",
     "output_type": "stream",
     "text": [
      "Score over time: 0.091\n"
     ]
    }
   ],
   "source": [
    "print(\"Score over time: \" +  str(sum(rewardList)/n_episodes))"
   ]
  },
  {
   "cell_type": "code",
   "execution_count": 16,
   "id": "50568caf",
   "metadata": {},
   "outputs": [
    {
     "name": "stdout",
     "output_type": "stream",
     "text": [
      "Final Q-Table Values\n",
      "[[0.85001054 0.85009794 0.85050774 0.85094246]\n",
      " [0.67215863 0.54235065 0.61307163 0.85094246]\n",
      " [0.77616504 0.78202914 0.76090475 0.85094246]\n",
      " [0.58274651 0.4578615  0.59908161 0.85094246]\n",
      " [0.8507561  0.40146677 0.57331867 0.6233718 ]\n",
      " [0.         0.         0.         0.        ]\n",
      " [0.28882991 0.16786912 0.56583466 0.24443381]\n",
      " [0.         0.         0.         0.        ]\n",
      " [0.34755305 0.35244301 0.41652659 0.84854266]\n",
      " [0.53276806 0.84311418 0.53103778 0.56417284]\n",
      " [0.74153354 0.4968292  0.46482119 0.46835505]\n",
      " [0.         0.         0.         0.        ]\n",
      " [0.         0.         0.         0.        ]\n",
      " [0.44121911 0.60657034 0.89034436 0.44420459]\n",
      " [0.83863998 0.92670663 0.88953587 0.88174504]\n",
      " [0.         0.         0.         0.        ]]\n"
     ]
    }
   ],
   "source": [
    "print(\"Final Q-Table Values\")\n",
    "print(Q)"
   ]
  },
  {
   "cell_type": "markdown",
   "id": "8c1b0e54",
   "metadata": {},
   "source": [
    "### 최적의 정책 구하기 및 출력"
   ]
  },
  {
   "cell_type": "code",
   "execution_count": 17,
   "id": "3f80c5df",
   "metadata": {},
   "outputs": [
    {
     "name": "stdout",
     "output_type": "stream",
     "text": [
      "Optimal policy:\n",
      "[[3. 3. 3. 3.]\n",
      " [0. 0. 2. 0.]\n",
      " [3. 1. 0. 0.]\n",
      " [0. 2. 1. 0.]]\n"
     ]
    },
    {
     "data": {
      "image/png": "[encoded data removed]",
      "text/plain": [
       "<Figure size 432x288 with 1 Axes>"
      ]
     },
     "metadata": {},
     "output_type": "display_data"
    }
   ],
   "source": [
    "# 최적의 정책 구하기\n",
    "policy = np.zeros(n_states)\n",
    "for state in range(n_states):\n",
    "    policy[state] = np.argmax(Q[state, :])\n",
    "\n",
    "# 최적의 정책 출력\n",
    "print(\"Optimal policy:\")\n",
    "print(policy.reshape(4,4))\n",
    "\n",
    "# 화살표로 나타내기\n",
    "\n",
    "import matplotlib.pyplot as plt\n",
    "import numpy as np\n",
    "\n",
    "# Q-table에서 각 상태에서 최대 Q-value를 갖는 행동을 알아냄\n",
    "max_actions = np.argmax(Q, axis=1)\n",
    "\n",
    "# 각 상태에 화살표로 나타냄\n",
    "plt.imshow(np.zeros((4,4)), cmap='gray', vmin=0, vmax=1)\n",
    "for i in range(4):\n",
    "    for j in range(4):\n",
    "        if max_actions[i*4+j] == 0:  # up\n",
    "            plt.arrow(j+0.5, i+0.9, 0, -0.7, head_width=0.2, head_length=0.1, fc='r', ec='r')\n",
    "        elif max_actions[i*4+j] == 1:  # right\n",
    "            plt.arrow(j+0.1, i+0.5, 0.7, 0, head_width=0.2, head_length=0.1, fc='r', ec='r')\n",
    "        elif max_actions[i*4+j] == 2:  # down\n",
    "            plt.arrow(j+0.5, i+0.1, 0, 0.7, head_width=0.2, head_length=0.1, fc='r', ec='r')\n",
    "        elif max_actions[i*4+j] == 3:  # left\n",
    "            plt.arrow(j+0.9, i+0.5, -0.7, 0, head_width=0.2, head_length=0.1, fc='r', ec='r')\n",
    "plt.xlim(0, 4)\n",
    "plt.ylim(0, 4)\n",
    "plt.xticks([])\n",
    "plt.yticks([])\n",
    "plt.show()"
   ]
  },
  {
   "cell_type": "code",
   "execution_count": null,
   "id": "c04cc870",
   "metadata": {},
   "outputs": [],
   "source": []
  }
 ],
 "metadata": {
  "kernelspec": {
   "display_name": "Python 3 (ipykernel)",
   "language": "python",
   "name": "python3"
  },
  "language_info": {
   "codemirror_mode": {
    "name": "ipython",
    "version": 3
   },
   "file_extension": ".py",
   "mimetype": "text/x-python",
   "name": "python",
   "nbconvert_exporter": "python",
   "pygments_lexer": "ipython3",
   "version": "3.9.7"
  }
 },
 "nbformat": 4,
 "nbformat_minor": 5
}
