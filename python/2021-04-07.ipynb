{
 "cells": [
  {
   "cell_type": "markdown",
   "metadata": {},
   "source": [
    "# 과제도와주기 프로젝트 4번째"
   ]
  },
  {
   "cell_type": "markdown",
   "metadata": {},
   "source": [
    "- 요청 : 같은 과 동기<br>\n",
    "- 일시 : 2021-04-07\n",
    "- 과목 : 컴퓨터공학<br>\n",
    "- 언어 : python"
   ]
  },
  {
   "cell_type": "markdown",
   "metadata": {},
   "source": [
    "<img src='src/2021-04-07-1.png' style='float:left; width:500px;'>"
   ]
  },
  {
   "cell_type": "markdown",
   "metadata": {},
   "source": [
    "<img src='src/2021-04-07-1.png' style='float:left; width:600px;'>"
   ]
  },
  {
   "cell_type": "markdown",
   "metadata": {},
   "source": [
    "# 1. Activation Function"
   ]
  },
  {
   "cell_type": "code",
   "execution_count": 1,
   "metadata": {},
   "outputs": [
    {
     "data": {
      "image/png": "[encoded data removed]",
      "text/plain": [
       "<Figure size 432x288 with 1 Axes>"
      ]
     },
     "metadata": {
      "needs_background": "light"
     },
     "output_type": "display_data"
    }
   ],
   "source": [
    "import numpy as np\n",
    "import matplotlib.pyplot as plt\n",
    "\n",
    "def Activation(func, x):\n",
    "    if(func == 'Relu'):\n",
    "        return Relu(x)\n",
    "    else :\n",
    "        return Sigmoid(x)\n",
    "        \n",
    "def Relu(x):\n",
    "     ######################################\n",
    "    # TODO :  Relu 함수를 구현하시오.  \n",
    "    #         [Input]\n",
    "    #         - x : (list or np.array) \n",
    "    #  \n",
    "    #         [output]\n",
    "    #         - y : (list or np.array) 함수의 결과\n",
    "    # ========== EDIT HERE ==========\n",
    "    y = np.where(x>0, x, 0)\n",
    "    \n",
    "    # ===============================\n",
    "    return y\n",
    "\n",
    "def Sigmoid(x):\n",
    "    ######################################\n",
    "       # TODO :  Relu 함수를 구현하시오.  \n",
    "    #         [Input]\n",
    "    #         - x : (list or np.array) \n",
    "    #  \n",
    "    #         [output]\n",
    "    #         - y : (list or np.array) 함수의 결과\n",
    "    # ========== EDIT HERE ==========\n",
    "    \n",
    "    y = 1/(1+np.exp(x))\n",
    "    # ===============================\n",
    "    return y\n",
    "\n",
    "# ========== You can setting ==========\n",
    "FUNCTION_NAME = 'Relu'\n",
    "# =====================================\n",
    "\n",
    "assert FUNCTION_NAME in ['Sigmoid', 'Relu',]\n",
    "if __name__ == '__main__':\n",
    "    x = np.array([i for i in range(-6,7)])\n",
    "    y = Activation(FUNCTION_NAME,x)\n",
    "\n",
    "    plt.plot(x,y)\n",
    "    plt.title('Activation Function')\n",
    "    plt.show()"
   ]
  },
  {
   "cell_type": "markdown",
   "metadata": {},
   "source": [
    "# 2. 카드게임"
   ]
  },
  {
   "cell_type": "code",
   "execution_count": 2,
   "metadata": {},
   "outputs": [
    {
     "name": "stdout",
     "output_type": "stream",
     "text": [
      "4\n"
     ]
    }
   ],
   "source": [
    "import numpy as np\n",
    "\n",
    "\n",
    "def make_cards(array):\n",
    "    ######################################\n",
    "    # TODO :  1~25 1차원 array를 (5,5)의 숫자가 random하게 들어있는 2D array로 만든다.\n",
    "    #         [Input]\n",
    "    #         - array : (N,) 1-d array  \n",
    "    #  \n",
    "    #         [output]\n",
    "    #         - cards :  (number of people=5, 5) reshaped of array \n",
    "    # ========== EDIT HERE ==========\n",
    "    np.random.shuffle(array)\n",
    "    cards = array.reshape((5, 5))\n",
    "    # ===============================\n",
    "    return cards\n",
    "\n",
    "def get_winner(cards): \n",
    "    ######################################\n",
    "    # TODO :  여러가지 numpy 연산을 통해서 승자의 인덱스를 구해준다.\n",
    "    #         (예시를 보면 이해할 수 있음)\n",
    "    #         주의사항 : loop을 쓰지 않고 구현.\n",
    "    #         [Input]\n",
    "    #         - cards : (number of people=5, 5)  \n",
    "    #  \n",
    "    #         [output]\n",
    "    #         - winner :  합이 가장 큰 사람 (index가 0인 사람이 첫번째 사람)\n",
    "    # ========== EDIT HERE ==========\n",
    "    winner = np.argmax(cards[:, 0] - cards[:, 1:].sum(axis=1))+1\n",
    "    # ===============================\n",
    "    return winner\n",
    "\n",
    "if __name__ == '__main__':\n",
    "    # ========== EDIT HERE ==========\n",
    "    # TODO : 1~25의 numpy array를 만든다.\n",
    "    array = np.arange(1, 26)\n",
    "    # ===============================\n",
    "    cards = make_cards(array)\n",
    "    winner = get_winner(cards)\n",
    "\n",
    "    print(winner)"
   ]
  }
 ],
 "metadata": {
  "kernelspec": {
   "display_name": "Python 3",
   "language": "python",
   "name": "python3"
  },
  "language_info": {
   "codemirror_mode": {
    "name": "ipython",
    "version": 3
   },
   "file_extension": ".py",
   "mimetype": "text/x-python",
   "name": "python",
   "nbconvert_exporter": "python",
   "pygments_lexer": "ipython3",
   "version": "3.8.5"
  }
 },
 "nbformat": 4,
 "nbformat_minor": 4
}
