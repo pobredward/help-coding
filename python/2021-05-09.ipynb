{
 "cells": [
  {
   "cell_type": "markdown",
   "id": "ba70fba1",
   "metadata": {},
   "source": [
    "# 과제도와주기 프로젝트 12번째"
   ]
  },
  {
   "cell_type": "markdown",
   "id": "6e417636",
   "metadata": {},
   "source": [
    "- 요청 : 에브리타임<br>\n",
    "- 일시 : 2021-05-09\n",
    "- 과목 : 공학도를위한창의적컴퓨팅<br>\n",
    "- 언어 : python"
   ]
  },
  {
   "cell_type": "markdown",
   "id": "285a410d",
   "metadata": {},
   "source": [
    "<img src='src/2021-05-09-1.jpeg' style='float:left; width:600px;'>"
   ]
  },
  {
   "cell_type": "code",
   "execution_count": 1,
   "id": "b8d5ab49",
   "metadata": {},
   "outputs": [
    {
     "name": "stdout",
     "output_type": "stream",
     "text": [
      "입력하세요 : \n",
      "사과\n",
      "입력하세요 : \n",
      "10\n",
      "입력하세요 : \n",
      "한양대학교\n",
      "['사과', 10, '한양대학교']\n"
     ]
    }
   ],
   "source": [
    "fruits = str(input('입력하세요 : \\n'))\n",
    "number = int(input('입력하세요 : \\n'))\n",
    "location = str(input('입력하세요 : \\n'))\n",
    "user_list = [fruits, number, location]\n",
    "print(user_list)"
   ]
  },
  {
   "cell_type": "code",
   "execution_count": 2,
   "id": "bb8cd31f",
   "metadata": {},
   "outputs": [
    {
     "name": "stdout",
     "output_type": "stream",
     "text": [
      "[63, 40, 20, 71, 80, 42, 3, 100, 89, 82]\n"
     ]
    }
   ],
   "source": [
    "import random\n",
    "num_list = []\n",
    "for i in range(10):\n",
    "    num_list.append(random.randint(1, 100))\n",
    "print(num_list)"
   ]
  },
  {
   "cell_type": "code",
   "execution_count": 3,
   "id": "de75c8b5",
   "metadata": {},
   "outputs": [
    {
     "name": "stdout",
     "output_type": "stream",
     "text": [
      "정수를 입력하세요 : \n",
      "10\n",
      "정수를 입력하세요 : \n",
      "20\n",
      "정수를 입력하세요 : \n",
      "30\n",
      "정수를 입력하세요 : \n",
      "40\n",
      "정수를 입력하세요 : \n",
      "-1\n",
      "[10, 20, 30, 40]\n"
     ]
    }
   ],
   "source": [
    "integer_list = []\n",
    "while True:\n",
    "    integer = int(input('정수를 입력하세요 : \\n'))\n",
    "    if integer>=0:\n",
    "        integer_list.append(integer)\n",
    "    else:\n",
    "        print(integer_list)\n",
    "        break"
   ]
  },
  {
   "cell_type": "code",
   "execution_count": 4,
   "id": "05d6f1ea",
   "metadata": {},
   "outputs": [
    {
     "name": "stdout",
     "output_type": "stream",
     "text": [
      "50\n"
     ]
    }
   ],
   "source": [
    "import random\n",
    "raw_list = [10, 20, 30, 40, 50]\n",
    "print(raw_list[random.randint(0, 4)])"
   ]
  }
 ],
 "metadata": {
  "kernelspec": {
   "display_name": "Python 3",
   "language": "python",
   "name": "python3"
  },
  "language_info": {
   "codemirror_mode": {
    "name": "ipython",
    "version": 3
   },
   "file_extension": ".py",
   "mimetype": "text/x-python",
   "name": "python",
   "nbconvert_exporter": "python",
   "pygments_lexer": "ipython3",
   "version": "3.8.8"
  }
 },
 "nbformat": 4,
 "nbformat_minor": 5
}
