{
 "cells": [
  {
   "cell_type": "code",
   "execution_count": 16,
   "id": "2c4ad17e",
   "metadata": {},
   "outputs": [],
   "source": [
    "import urllib.request\n",
    "import requests\n",
    "import re\n",
    "import pandas as pd\n",
    "\n",
    "client_id = \"01sv6R7hOi4rWlGLzp_V\"\n",
    "client_secret = \"X0oNz8KyHa\"\n",
    "\n",
    "encText = urllib.parse.quote(\"코로나\")\n",
    "max_display = 100\n",
    "url = f\"https://openapi.naver.com/v1/search/news?query={encText}&display={str(int(max_display))}\"\n",
    "headers = {\"X-Naver-Client-Id\": client_id,\n",
    "           \"X-Naver-Client-Secret\": client_secret\n",
    "          }\n",
    "r = requests.get(url, headers=headers)\n",
    "result_df = pd.DataFrame(r.json()[\"items\"])\n",
    "\n",
    "def clean_html(x):\n",
    "    x = re.sub(\"\\&\\w*\\;\",\"\",x)\n",
    "    x = re.sub(\"<.*?>\",\"\",x)\n",
    "    return x\n",
    "\n",
    "result_df['title'] = result_df['title'].apply(lambda x: clean_html(x))\n",
    "result_df['description'] = result_df['description'].apply(lambda x: clean_html(x))\n",
    "\n",
    "result_df = result_df.reset_index()[[\"index\", \"title\", \"pubDate\", \"link\"]]\n",
    "result_df = result_df.rename(columns={\"index\": \"num\", \"pubDate\": \"Date\", \"link\": \"URL\"})\n",
    "result_df[\"num\"] = result_df[\"num\"]+1\n",
    "\n",
    "result_df.to_excel(\"news_20211205_221800.xlsx\", index=False)"
   ]
  }
 ],
 "metadata": {
  "kernelspec": {
   "display_name": "Python 3",
   "language": "python",
   "name": "python3"
  },
  "language_info": {
   "codemirror_mode": {
    "name": "ipython",
    "version": 3
   },
   "file_extension": ".py",
   "mimetype": "text/x-python",
   "name": "python",
   "nbconvert_exporter": "python",
   "pygments_lexer": "ipython3",
   "version": "3.8.5"
  }
 },
 "nbformat": 4,
 "nbformat_minor": 5
}
