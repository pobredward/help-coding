{
 "cells": [
  {
   "cell_type": "markdown",
   "metadata": {},
   "source": [
    "# 과제도와주기 프로젝트 9번째"
   ]
  },
  {
   "cell_type": "markdown",
   "metadata": {},
   "source": [
    "- 요청 : 서울여대 학생<br>\n",
    "- 일시 : 2021-04-16\n",
    "- 과목 : 공학도를위한창의적컴퓨팅<br>\n",
    "- 언어 : python"
   ]
  },
  {
   "cell_type": "markdown",
   "metadata": {},
   "source": [
    "<img src='src/2021-04-15-1.png' style='float:left; width:600px;'>"
   ]
  },
  {
   "cell_type": "code",
   "execution_count": 1,
   "metadata": {},
   "outputs": [
    {
     "name": "stdout",
     "output_type": "stream",
     "text": [
      "단어를 추가하시겠습니까? (네 or 아니오) :네\n",
      "영어 단어를 추가하세요 :grapes\n",
      "한글 단어를 추가하세요 :포도\n",
      "\n",
      "1 영어 -> 한글\n",
      "2 한글 -> 영어\n",
      "3 종료\n",
      "1\n",
      "영어 bed 의 뜻?\n",
      "침대\n",
      "네, 맞았어요, 영어 bed 의 뜻은 한글로 침대 입니다\n",
      "남은 단어의 숫자 : 5\n",
      "\n",
      "1 영어 -> 한글\n",
      "2 한글 -> 영어\n",
      "3 종료\n",
      "2\n",
      "고양이 은 영어로 무엇?\n",
      "cat\n",
      "네, 맞았어요, 한글 고양이 의 뜻은 영어로 cat 입니다\n",
      "남은 단어의 숫자 : 4\n",
      "\n",
      "1 영어 -> 한글\n",
      "2 한글 -> 영어\n",
      "3 종료\n",
      "1\n",
      "영어 dog 의 뜻?\n",
      "개\n",
      "네, 맞았어요, 영어 dog 의 뜻은 한글로 개 입니다\n",
      "남은 단어의 숫자 : 3\n",
      "\n",
      "1 영어 -> 한글\n",
      "2 한글 -> 영어\n",
      "3 종료\n",
      "1\n",
      "영어 grapes 의 뜻?\n",
      "포도\n",
      "네, 맞았어요, 영어 grapes 의 뜻은 한글로 포도 입니다\n",
      "남은 단어의 숫자 : 2\n",
      "\n",
      "1 영어 -> 한글\n",
      "2 한글 -> 영어\n",
      "3 종료\n",
      "1\n",
      "영어 clock 의 뜻?\n",
      "시계\n",
      "네, 맞았어요, 영어 clock 의 뜻은 한글로 시계 입니다\n",
      "남은 단어의 숫자 : 1\n",
      "\n",
      "1 영어 -> 한글\n",
      "2 한글 -> 영어\n",
      "3 종료\n",
      "2\n",
      "사과 은 영어로 무엇?\n",
      "apple\n",
      "네, 맞았어요, 한글 사과 의 뜻은 영어로 apple 입니다\n",
      "남은 단어의 숫자 : 0\n",
      "\n",
      "Clear!\n"
     ]
    }
   ],
   "source": [
    "import random\n",
    "menus = [(1, '영어 -> 한글'), (2, '한글 -> 영어'), (3, '종료')]\n",
    "english_list = ['apple', 'bed', 'clock', 'cat', 'dog']\n",
    "hangul_list = ['사과', '침대', '시계', '고양이', '개']\n",
    "\n",
    "append = str(input('단어를 추가하시겠습니까? (네 or 아니오) :'))\n",
    "if append=='네':\n",
    "    english_append = str(input('영어 단어를 추가하세요 :'))\n",
    "    hangul_append = str(input('한글 단어를 추가하세요 :'))\n",
    "else:\n",
    "    pass\n",
    "english_list.append(english_append)\n",
    "hangul_list.append(hangul_append)\n",
    "\n",
    "number = len(english_list)\n",
    "while True:\n",
    "    print('')\n",
    "    if len(english_list)==0:\n",
    "        print('Clear!')\n",
    "        break\n",
    "    for i, n in menus:\n",
    "        print(i, n)\n",
    "    c = int(input())\n",
    "    if c == 1:\n",
    "        n = random.randrange(number)\n",
    "        eng_word = english_list[n]\n",
    "        kor_word = hangul_list[n]\n",
    "        print('영어', eng_word, '의 뜻?')\n",
    "        kor_word = input()\n",
    "        if kor_word == hangul_list[n]:\n",
    "            print('네, 맞았어요, 영어', eng_word, '의 뜻은 한글로', kor_word, '입니다')\n",
    "            english_list.remove(eng_word)\n",
    "            hangul_list.remove(kor_word)\n",
    "            print('남은 단어의 숫자 :', len(english_list))\n",
    "            number -= 1\n",
    "        else:\n",
    "            print('틀렸습니다')\n",
    "    elif c == 2:\n",
    "        n = random.randrange(number)\n",
    "        eng_word = english_list[n]\n",
    "        kor_word = hangul_list[n]\n",
    "        print(kor_word, '은 영어로 무엇?')\n",
    "        eng_word = input()\n",
    "        if eng_word == english_list[n]:\n",
    "            print('네, 맞았어요, 한글', kor_word, '의 뜻은 영어로', eng_word, '입니다')\n",
    "            english_list.remove(eng_word)\n",
    "            hangul_list.remove(kor_word)\n",
    "            print('남은 단어의 숫자 :', len(hangul_list))\n",
    "            number -= 1\n",
    "        else:\n",
    "            print('틀렸습니다')\n",
    "    elif c == 3:\n",
    "        break"
   ]
  }
 ],
 "metadata": {
  "kernelspec": {
   "display_name": "Python 3",
   "language": "python",
   "name": "python3"
  },
  "language_info": {
   "codemirror_mode": {
    "name": "ipython",
    "version": 3
   },
   "file_extension": ".py",
   "mimetype": "text/x-python",
   "name": "python",
   "nbconvert_exporter": "python",
   "pygments_lexer": "ipython3",
   "version": "3.8.8"
  }
 },
 "nbformat": 4,
 "nbformat_minor": 4
}
