{
 "cells": [
  {
   "cell_type": "markdown",
   "metadata": {},
   "source": [
    "# 과제도와주기 프로젝트 5번째"
   ]
  },
  {
   "cell_type": "markdown",
   "metadata": {},
   "source": [
    "- 요청 : 에브리타임<br>\n",
    "- 일시 : 2021-04-11\n",
    "- 과목 : 공학도를위한창의적컴퓨팅<br>\n",
    "- 언어 : python"
   ]
  },
  {
   "cell_type": "markdown",
   "metadata": {},
   "source": [
    "<img src='src/2021-04-11-1.jpeg' style='float:left; width:600px;'>"
   ]
  },
  {
   "cell_type": "code",
   "execution_count": 1,
   "metadata": {},
   "outputs": [
    {
     "name": "stdout",
     "output_type": "stream",
     "text": [
      "돈을 넣으세요 : 1800\n",
      "콜라가 나왔습니다.\n",
      "거스름돈은300원 입니다.\n"
     ]
    }
   ],
   "source": [
    "money = int(input('돈을 넣으세요 : '))\n",
    "if money>1500:\n",
    "    print('콜라가 나왔습니다.\\n거스름돈은%d원 입니다.'%(money-1500))\n",
    "else:\n",
    "    print('거스름돈은 %d원입니다.'%(money))"
   ]
  },
  {
   "cell_type": "code",
   "execution_count": 2,
   "metadata": {},
   "outputs": [
    {
     "name": "stdout",
     "output_type": "stream",
     "text": [
      "돈을 넣으세요 : 1000\n",
      "거스름돈은 1000원입니다.\n"
     ]
    }
   ],
   "source": [
    "money = int(input('돈을 넣으세요 : '))\n",
    "if money>1500:\n",
    "    print('콜라가 나왔습니다.\\n거스름돈은%d원 입니다.'%(money-1500))\n",
    "else:\n",
    "    print('거스름돈은 %d원입니다.'%(money))"
   ]
  }
 ],
 "metadata": {
  "kernelspec": {
   "display_name": "Python 3",
   "language": "python",
   "name": "python3"
  },
  "language_info": {
   "codemirror_mode": {
    "name": "ipython",
    "version": 3
   },
   "file_extension": ".py",
   "mimetype": "text/x-python",
   "name": "python",
   "nbconvert_exporter": "python",
   "pygments_lexer": "ipython3",
   "version": "3.8.5"
  }
 },
 "nbformat": 4,
 "nbformat_minor": 4
}
