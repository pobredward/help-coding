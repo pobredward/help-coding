{
 "cells": [
  {
   "cell_type": "markdown",
   "metadata": {},
   "source": [
    "# 과제도와주기 프로젝트 1번째"
   ]
  },
  {
   "cell_type": "markdown",
   "metadata": {},
   "source": [
    "- 요청 : 에브리타임<br>\n",
    "- 일시 : 2021-03-29\n",
    "- 과목 : 공학도를위한창의적프로그래밍<br>\n",
    "- 언어 : python\n",
    "- 조건 : 수업때 배운 while문 쓰기, .format 쓰기"
   ]
  },
  {
   "cell_type": "markdown",
   "metadata": {},
   "source": [
    "<img src='src/2021-03-29-1.jpeg' style='float:left; width:350px;'>"
   ]
  },
  {
   "cell_type": "code",
   "execution_count": 1,
   "metadata": {},
   "outputs": [
    {
     "name": "stdout",
     "output_type": "stream",
     "text": [
      "100 이상의 수 : 273\n",
      "100 이상의 수 : 101\n",
      "100 이상의 수 : 200\n",
      "100 이상의 수 : 150\n"
     ]
    }
   ],
   "source": [
    "# while loop\n",
    "numbers = [273, 101, 50, 200, 50, 70, 150, 99]\n",
    "i = 0\n",
    "while i<len(numbers):\n",
    "    if numbers[i]>=100:\n",
    "        print('100 이상의 수 : {}'.format(numbers[i]))\n",
    "    i += 1"
   ]
  },
  {
   "cell_type": "markdown",
   "metadata": {},
   "source": [
    "<img src='src/2021-03-29-2.jpeg' style='float:left; width:350px;'>"
   ]
  },
  {
   "cell_type": "code",
   "execution_count": 2,
   "metadata": {},
   "outputs": [
    {
     "name": "stdout",
     "output_type": "stream",
     "text": [
      "273은 3자리 수입니다.\n",
      "101은 3자리 수입니다.\n",
      "50은 2자리 수입니다.\n",
      "200은 3자리 수입니다.\n",
      "50은 2자리 수입니다.\n",
      "70은 2자리 수입니다.\n",
      "150은 3자리 수입니다.\n",
      "99은 2자리 수입니다.\n",
      "8은 1자리 수입니다.\n",
      "1500은 4자리 수입니다.\n"
     ]
    }
   ],
   "source": [
    "# for loop\n",
    "numbers = [273, 101, 50, 200, 50, 70, 150, 99, 8, 1500]\n",
    "for num in numbers:\n",
    "    print('{}은 {}자리 수입니다.'.format(num, len(str(num))))"
   ]
  },
  {
   "cell_type": "code",
   "execution_count": 3,
   "metadata": {},
   "outputs": [
    {
     "name": "stdout",
     "output_type": "stream",
     "text": [
      "273는 3자리수입니다\n",
      "101는 3자리수입니다\n",
      "50는 2자리수입니다\n",
      "200는 3자리수입니다\n",
      "50는 2자리수입니다\n",
      "70는 2자리수입니다\n",
      "150는 3자리수입니다\n",
      "99는 2자리수입니다\n",
      "8는 1자리수입니다\n",
      "1500는 4자리수입니다\n"
     ]
    }
   ],
   "source": [
    "# while loop\n",
    "numbers = [273, 101, 50, 200, 50, 70, 150, 99, 8, 1500]\n",
    "i = 0\n",
    "while i<len(numbers):\n",
    "    a = str(numbers[i])\n",
    "    b = len(a)\n",
    "    print('{}는 {}자리수입니다'.format(a, b))\n",
    "    i+=1"
   ]
  }
 ],
 "metadata": {
  "kernelspec": {
   "display_name": "Python 3",
   "language": "python",
   "name": "python3"
  },
  "language_info": {
   "codemirror_mode": {
    "name": "ipython",
    "version": 3
   },
   "file_extension": ".py",
   "mimetype": "text/x-python",
   "name": "python",
   "nbconvert_exporter": "python",
   "pygments_lexer": "ipython3",
   "version": "3.8.5"
  }
 },
 "nbformat": 4,
 "nbformat_minor": 5
}
