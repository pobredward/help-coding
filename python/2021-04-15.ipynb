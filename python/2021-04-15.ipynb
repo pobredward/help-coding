{
 "cells": [
  {
   "cell_type": "markdown",
   "metadata": {},
   "source": [
    "# 과제도와주기 프로젝트 8번째"
   ]
  },
  {
   "cell_type": "markdown",
   "metadata": {},
   "source": [
    "- 요청 : 에브리타임<br>\n",
    "- 일시 : 2021-04-15\n",
    "- 과목 : 공학도를위한창의적컴퓨팅<br>\n",
    "- 언어 : python"
   ]
  },
  {
   "cell_type": "markdown",
   "metadata": {},
   "source": [
    "<img src='src/2021-04-15-1.png' style='float:left; width:600px;'>"
   ]
  },
  {
   "cell_type": "code",
   "execution_count": 1,
   "metadata": {},
   "outputs": [
    {
     "name": "stdout",
     "output_type": "stream",
     "text": [
      "삭제하고자 하는 데이터: 커피\n",
      "상품을 삭제하겠습니다.\n",
      "삭제 완료!\n",
      "현재 재고: ['우유', '귤', '우유']\n"
     ]
    }
   ],
   "source": [
    "merchandise = ['커피', '우유', '커피', '귤', '커피', '우유']\n",
    "erase = str(input('삭제하고자 하는 데이터: '))\n",
    "i = 0\n",
    "print('상품을 삭제하겠습니다.')\n",
    "while (i<len(merchandise)):\n",
    "    if merchandise[i]==erase:\n",
    "        del merchandise[i]\n",
    "    i += 1\n",
    "print('삭제 완료!')\n",
    "print('현재 재고: {}'.format(merchandise))"
   ]
  },
  {
   "cell_type": "markdown",
   "metadata": {},
   "source": [
    "<img src='src/2021-04-15-2.png' style='float:left; width:600px;'>"
   ]
  },
  {
   "cell_type": "code",
   "execution_count": 2,
   "metadata": {},
   "outputs": [
    {
     "name": "stdout",
     "output_type": "stream",
     "text": [
      "------------------------------\n",
      "         오늘의 명언\n",
      "------------------------------\n",
      "It is better to be hated for what you are than to be loved for what you are not.\n"
     ]
    }
   ],
   "source": [
    "import numpy as np\n",
    "proverb_list = ['It is better to be hated for what you are than to be loved for what you are not.',\n",
    "                'If you can make a woman laugh, you can make her do anything.',\n",
    "                'To die will be an awfully big advanture.',\n",
    "                'I have not failed. I\\'ve just found 10,000 ways that won\\'t work',\n",
    "                'It is our choices, Harry, that show what we truly are, far more than our abilities']\n",
    "print('-'*30)\n",
    "print('오늘의 명언'.rjust(15))\n",
    "print('-'*30)\n",
    "print(proverb_list[np.random.randint(0, len(proverb_list))])"
   ]
  },
  {
   "cell_type": "markdown",
   "metadata": {},
   "source": [
    "<img src='src/2021-04-15-3.png' style='float:left; width:600px;'>"
   ]
  },
  {
   "cell_type": "code",
   "execution_count": 3,
   "metadata": {},
   "outputs": [
    {
     "name": "stdout",
     "output_type": "stream",
     "text": [
      "추천 로또 번호\n",
      "[16, 20, 28, 33, 35, 45]\n",
      "부자 되자!\n"
     ]
    }
   ],
   "source": [
    "num = np.random.randint(1, 46, 6)\n",
    "num.sort()\n",
    "num = np.unique(num)\n",
    "print('추천 로또 번호')\n",
    "print(list(num))\n",
    "print('부자 되자!')"
   ]
  },
  {
   "cell_type": "markdown",
   "metadata": {},
   "source": [
    "<img src='src/2021-04-15-4.png' style='float:left; width:600px;'>"
   ]
  },
  {
   "cell_type": "code",
   "execution_count": 4,
   "metadata": {},
   "outputs": [
    {
     "name": "stdout",
     "output_type": "stream",
     "text": [
      "100 이상의 수 : 273\n",
      "100 이상의 수 : 101\n",
      "100 이상의 수 : 200\n",
      "100 이상의 수 : 150\n"
     ]
    }
   ],
   "source": [
    "numbers = [273, 101, 50, 200, 50, 70, 150, 99]\n",
    "i = 0\n",
    "while i<len(numbers):\n",
    "    if numbers[i]>=100:\n",
    "        print('100 이상의 수 : {}'.format(numbers[i]))\n",
    "    i += 1"
   ]
  },
  {
   "cell_type": "markdown",
   "metadata": {},
   "source": [
    "<img src='src/2021-04-15-5.png' style='float:left; width:600px;'>"
   ]
  },
  {
   "cell_type": "code",
   "execution_count": 5,
   "metadata": {},
   "outputs": [
    {
     "name": "stdout",
     "output_type": "stream",
     "text": [
      "273은 3자리수입니다\n",
      "101은 3자리수입니다\n",
      "50은 2자리수입니다\n",
      "200은 3자리수입니다\n",
      "50은 2자리수입니다\n",
      "70은 2자리수입니다\n",
      "150은 3자리수입니다\n",
      "99은 2자리수입니다\n",
      "8은 1자리수입니다\n",
      "1500은 4자리수입니다\n"
     ]
    }
   ],
   "source": [
    "numbers = [273, 101, 50, 200, 50, 70, 150, 99, 8, 1500]\n",
    "i = 0\n",
    "while i<len(numbers):\n",
    "    a = str(numbers[i])\n",
    "    b = len(a)\n",
    "    print('{}은 {}자리수입니다'.format(a, b))\n",
    "    i+=1"
   ]
  }
 ],
 "metadata": {
  "kernelspec": {
   "display_name": "Python 3",
   "language": "python",
   "name": "python3"
  },
  "language_info": {
   "codemirror_mode": {
    "name": "ipython",
    "version": 3
   },
   "file_extension": ".py",
   "mimetype": "text/x-python",
   "name": "python",
   "nbconvert_exporter": "python",
   "pygments_lexer": "ipython3",
   "version": "3.8.5"
  }
 },
 "nbformat": 4,
 "nbformat_minor": 4
}
