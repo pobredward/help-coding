{
 "cells": [
  {
   "cell_type": "markdown",
   "metadata": {},
   "source": [
    "# 과제도와주기 프로젝트 6번째"
   ]
  },
  {
   "cell_type": "markdown",
   "metadata": {},
   "source": [
    "- 요청 : 같은 과 동기<br>\n",
    "- 일시 : 2021-04-12\n",
    "- 과목 : 컴퓨터공학<br>\n",
    "- 언어 : python"
   ]
  },
  {
   "cell_type": "markdown",
   "metadata": {},
   "source": [
    "# Convolution Layer (using numpy)"
   ]
  },
  {
   "cell_type": "code",
   "execution_count": 1,
   "metadata": {},
   "outputs": [
    {
     "name": "stdout",
     "output_type": "stream",
     "text": [
      "[[3 3]\n",
      " [2 4]]\n"
     ]
    }
   ],
   "source": [
    "import numpy as np\n",
    "\n",
    "def convolution2d(x, kernel, stride=1):\n",
    "    \"\"\"\n",
    "    Convolution 2D : Do Convolution on 'x' with filter = 'kernel', stride = 'stride'\n",
    "    입력 x에 대해 'kernel'을 filter로 사용하여 2D Convolution을 수행하시오.\n",
    "    [Input]\n",
    "    x: 2D array\n",
    "    - Shape : (Height, Width)\n",
    "    kernel : 2D convolution filter\n",
    "    - Shape : (Kernel size, Kernel size)\n",
    "    stride : Stride size (default = 1)\n",
    "    - dtype : int\n",
    "    [Output]\n",
    "    conv_out : convolution result\n",
    "    - Shape : (Conv_Height, Conv_Width)\n",
    "    - Conv_Height & Conv_Width can be calculated using 'Height', 'Width', 'Kernel size', 'Stride'\n",
    "    \"\"\"\n",
    "    height, width = x.shape\n",
    "    kernel_size = kernel.shape[0]\n",
    "    conv_out = None\n",
    "    # =============================== EDIT HERE ===============================\n",
    "    a = (height-kernel_size)//stride + 1\n",
    "    b = (width-kernel_size)//stride + 1\n",
    "    result2 = []\n",
    "\n",
    "\n",
    "    for rn in range(a):\n",
    "        for cn in range(b):\n",
    "            result1 = x[rn:rn+kernel_size,cn:cn+kernel_size] * kernel\n",
    "            result2.append(np.sum(result1))\n",
    "\n",
    "    conv_out = np.array(result2).reshape(a,b)\n",
    "    \n",
    "    # =========================================================================\n",
    "    return conv_out\n",
    "\n",
    "\n",
    "if __name__ == '__main__':\n",
    "    x = np.array([[1,0,0,0], [1,1,1,1], [0,1,0,0], [1,1,0,1]])\n",
    "    kernel = np.array([[1,0,0], [0,1,1], [1,1,1]])\n",
    "\n",
    "    x_ = np.array([[1,1,0,1,1], [0,1,0,0,1], [1,1,0,1,0], [0,0,1,1,1], [1,1,1,1,1]])\n",
    "    kernel_ = np.array([[1,0,1], [1,1,1], [0,1,0]])\n",
    "\n",
    "    y = convolution2d(x_,kernel_,stride=2)\n",
    "    print(y)"
   ]
  }
 ],
 "metadata": {
  "kernelspec": {
   "display_name": "Python 3",
   "language": "python",
   "name": "python3"
  },
  "language_info": {
   "codemirror_mode": {
    "name": "ipython",
    "version": 3
   },
   "file_extension": ".py",
   "mimetype": "text/x-python",
   "name": "python",
   "nbconvert_exporter": "python",
   "pygments_lexer": "ipython3",
   "version": "3.8.5"
  }
 },
 "nbformat": 4,
 "nbformat_minor": 4
}
