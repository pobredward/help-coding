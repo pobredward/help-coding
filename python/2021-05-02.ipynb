{
 "cells": [
  {
   "cell_type": "markdown",
   "id": "0f089606",
   "metadata": {},
   "source": [
    "# 과제도와주기 프로젝트 10번째"
   ]
  },
  {
   "cell_type": "markdown",
   "id": "1dd322ae",
   "metadata": {},
   "source": [
    "- 요청 : 한양대학교 에브리타임<br>\n",
    "- 일시 : 2021-05-02\n",
    "- 과목 : 공학도를위한창의적컴퓨팅<br>\n",
    "- 언어 : python"
   ]
  },
  {
   "cell_type": "markdown",
   "id": "46763714",
   "metadata": {},
   "source": [
    "<img src='src/2021-05-02-1.jpeg' style='float:left; width:600px;'>"
   ]
  },
  {
   "cell_type": "code",
   "execution_count": 1,
   "id": "c3d1a2b0",
   "metadata": {},
   "outputs": [
    {
     "name": "stdout",
     "output_type": "stream",
     "text": [
      "정수를 입력하세요: \n",
      "10\n",
      "**********\n"
     ]
    }
   ],
   "source": [
    "def p(number):\n",
    "    print('*'*number)\n",
    "    \n",
    "num = int(input('정수를 입력하세요: \\n'))\n",
    "p(num)"
   ]
  },
  {
   "cell_type": "code",
   "execution_count": 2,
   "id": "4e66f449",
   "metadata": {},
   "outputs": [
    {
     "name": "stdout",
     "output_type": "stream",
     "text": [
      "1 이상의 수를 입력하세요: \n",
      "-3\n",
      "다시 입력하세요\n",
      "1 이상의 수를 입력하세요: \n",
      "3\n",
      "1부터 3까지 무작위로 선택된 수는 3입니다\n"
     ]
    }
   ],
   "source": [
    "from random import randint\n",
    "while True:\n",
    "    num = int(input('1 이상의 수를 입력하세요: \\n'))\n",
    "    if num>=1:\n",
    "        print('1부터 %d까지 무작위로 선택된 수는 %d입니다'%(num, randint(1, num)))\n",
    "        break\n",
    "    else:\n",
    "        print('다시 입력하세요')\n",
    "        pass"
   ]
  },
  {
   "cell_type": "code",
   "execution_count": 3,
   "id": "97ba0476",
   "metadata": {},
   "outputs": [
    {
     "name": "stdout",
     "output_type": "stream",
     "text": [
      "정수를 입력하세요: \n",
      "5\n",
      "1부터 5까지의 합은 15입니다\n"
     ]
    },
    {
     "data": {
      "text/plain": [
       "15"
      ]
     },
     "execution_count": 3,
     "metadata": {},
     "output_type": "execute_result"
    }
   ],
   "source": [
    "def p(number):\n",
    "    if number >= 1:\n",
    "        total = 0\n",
    "        for i in range(0, number):\n",
    "            total += (i+1)\n",
    "    elif number <= 0:\n",
    "        total = 1\n",
    "        for i in range(0, (number-1), -1):\n",
    "            total += (i)\n",
    "    print('1부터 %d까지의 합은 %d입니다'%(number, total))\n",
    "    return total\n",
    "\n",
    "num = int(input('정수를 입력하세요: \\n'))\n",
    "p(num)"
   ]
  }
 ],
 "metadata": {
  "kernelspec": {
   "display_name": "Python 3",
   "language": "python",
   "name": "python3"
  },
  "language_info": {
   "codemirror_mode": {
    "name": "ipython",
    "version": 3
   },
   "file_extension": ".py",
   "mimetype": "text/x-python",
   "name": "python",
   "nbconvert_exporter": "python",
   "pygments_lexer": "ipython3",
   "version": "3.8.8"
  }
 },
 "nbformat": 4,
 "nbformat_minor": 5
}
