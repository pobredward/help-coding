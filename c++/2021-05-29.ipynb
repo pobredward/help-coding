{
 "cells": [
  {
   "cell_type": "markdown",
   "id": "b45e3f30",
   "metadata": {},
   "source": [
    "# 과제도와주기 프로젝트 14번째"
   ]
  },
  {
   "cell_type": "markdown",
   "id": "002cd457",
   "metadata": {},
   "source": [
    "(**xeus-cling kernel 사용이 불편하므로 처음이자 마지막 c++**)"
   ]
  },
  {
   "cell_type": "markdown",
   "id": "39b56bc2",
   "metadata": {},
   "source": [
    "- 요청 : 서울여대 디지털미디어학과 학생<br>\n",
    "- 일시 : 2021-05-29\n",
    "- 과목 : <br>\n",
    "- 언어 : C++\n",
    "- 조건 : X"
   ]
  },
  {
   "cell_type": "markdown",
   "id": "3593e46f",
   "metadata": {},
   "source": [
    "<img src='src/2021-05-29-1.png' style='float:left; width:350px;'>"
   ]
  },
  {
   "cell_type": "code",
   "execution_count": 1,
   "id": "8d0d600d",
   "metadata": {},
   "outputs": [],
   "source": [
    "#include <iostream>\n",
    "using namespace std;"
   ]
  },
  {
   "cell_type": "code",
   "execution_count": 2,
   "id": "4bb86614",
   "metadata": {},
   "outputs": [],
   "source": [
    "int main()\n",
    "{\n",
    "    int random;\n",
    "    cout << \"정수(1000~9999)를 입력하세요 : \";\n",
    "    cin >> random;\n",
    " \n",
    "    cout << \"천의 자리 = \" << random/1000 << \"\\n\";\n",
    "    cout << \"백의 자리 = \" << random/100%10 << \"\\n\";\n",
    "    cout << \"십의 자리 = \" << random/10%10<< \"\\n\";\n",
    "    cout << \"일의 자리 = \" << random%10 << \"\\n\";\n",
    "}"
   ]
  },
  {
   "cell_type": "code",
   "execution_count": 3,
   "id": "7b8dc906",
   "metadata": {},
   "outputs": [
    {
     "name": "stdout",
     "output_type": "stream",
     "text": [
      "정수(1000~9999)를 입력하세요 : 2516\n",
      "천의 자리 = 2\n",
      "백의 자리 = 5\n",
      "십의 자리 = 1\n",
      "일의 자리 = 6\n"
     ]
    },
    {
     "data": {
      "text/plain": [
       "0"
      ]
     },
     "execution_count": 3,
     "metadata": {},
     "output_type": "execute_result"
    }
   ],
   "source": [
    "main()"
   ]
  }
 ],
 "metadata": {
  "kernelspec": {
   "display_name": "C++11",
   "language": "C++11",
   "name": "xcpp11"
  },
  "language_info": {
   "codemirror_mode": "text/x-c++src",
   "file_extension": ".cpp",
   "mimetype": "text/x-c++src",
   "name": "c++",
   "version": "11"
  }
 },
 "nbformat": 4,
 "nbformat_minor": 5
}
